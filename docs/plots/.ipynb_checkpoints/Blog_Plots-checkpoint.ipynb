{
 "cells": [
  {
   "cell_type": "code",
   "execution_count": 1,
   "id": "904f95e7-6146-4be6-bed9-cf28da6a57bf",
   "metadata": {},
   "outputs": [
    {
     "name": "stdout",
     "output_type": "stream",
     "text": [
      "Hello IPython\n"
     ]
    }
   ],
   "source": [
    "print ('Hello IPython')"
   ]
  },
  {
   "cell_type": "code",
   "execution_count": null,
   "id": "bea372a3-23f5-4f2b-bca2-1a246142870b",
   "metadata": {},
   "outputs": [],
   "source": []
  }
 ],
 "metadata": {
  "kernelspec": {
   "display_name": "Python 3 (ipykernel)",
   "language": "python",
   "name": "python3"
  },
  "language_info": {
   "codemirror_mode": {
    "name": "ipython",
    "version": 3
   },
   "file_extension": ".py",
   "mimetype": "text/x-python",
   "name": "python",
   "nbconvert_exporter": "python",
   "pygments_lexer": "ipython3",
   "version": "3.11.4"
  }
 },
 "nbformat": 4,
 "nbformat_minor": 5
}
